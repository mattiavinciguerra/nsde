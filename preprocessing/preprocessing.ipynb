{
 "cells": [
  {
   "cell_type": "markdown",
   "id": "6afac675",
   "metadata": {},
   "source": [
    "# Preprocessing"
   ]
  },
  {
   "cell_type": "markdown",
   "id": "03558a23",
   "metadata": {},
   "source": [
    "## Data loading"
   ]
  },
  {
   "cell_type": "code",
   "execution_count": 1,
   "id": "4d0df530",
   "metadata": {},
   "outputs": [],
   "source": [
    "import scipy\n",
    "\n",
    "data_path = \"/Users/mattia/Documents/Scuola/UNI/Magistrale/Tesi/CerfDataset/fixations.mat\"\n",
    "data = scipy.io.loadmat(data_path)"
   ]
  },
  {
   "cell_type": "code",
   "execution_count": 2,
   "id": "2106d125",
   "metadata": {},
   "outputs": [
    {
     "name": "stdout",
     "output_type": "stream",
     "text": [
      "<class 'numpy.ndarray'>\n"
     ]
    }
   ],
   "source": [
    "sbj_fixs = 0 # 8 subjects\n",
    "scanpath = 0 # 200 scanpaths for each subject\n",
    "data_type = \"scan\"\n",
    "scanpath_data_type = \"scan_x\"\n",
    "print((type(data[\"sbj\"][0][sbj_fixs][0][0][data_type][0][scanpath][0][0][scanpath_data_type])))"
   ]
  },
  {
   "cell_type": "markdown",
   "id": "528c5cac",
   "metadata": {},
   "source": [
    "## Data structure extraction"
   ]
  },
  {
   "cell_type": "code",
   "execution_count": 3,
   "id": "69fb511b",
   "metadata": {},
   "outputs": [
    {
     "name": "stdout",
     "output_type": "stream",
     "text": [
      "8 200 2021 2\n"
     ]
    }
   ],
   "source": [
    "import numpy as np\n",
    "\n",
    "scanpaths = []\n",
    "\n",
    "for sbj_index in range(8):\n",
    "    sbj_list = []\n",
    "    for scan_index in range(200):\n",
    "        scan_data_x = data[\"sbj\"][0][sbj_index][0][0][\"scan\"][0][scan_index][0][0][\"scan_x\"]\n",
    "        scan_data_y = data[\"sbj\"][0][sbj_index][0][0][\"scan\"][0][scan_index][0][0][\"scan_y\"]\n",
    "        scan_data = np.array(list(zip(scan_data_x[:,0], scan_data_y[:,0])), dtype=np.float32)\n",
    "        sbj_list.append(scan_data)\n",
    "    scanpaths.append(sbj_list)\n",
    "\n",
    "print(len(scanpaths), len(scanpaths[0]), len(scanpaths[0][0]), len(scanpaths[0][0][0]))\n",
    "# n_sbj x n_img x n_coordinates x 2\n",
    "# Third dimension variable in [653, 2440]"
   ]
  },
  {
   "cell_type": "markdown",
   "id": "449ab86c",
   "metadata": {},
   "source": [
    "## Data structure memorization"
   ]
  },
  {
   "cell_type": "code",
   "execution_count": 4,
   "id": "e88f7dad",
   "metadata": {},
   "outputs": [],
   "source": [
    "import pickle\n",
    "\n",
    "with open(\"scanpaths.pkl\", \"wb\") as f:\n",
    "    pickle.dump(scanpaths, f)"
   ]
  }
 ],
 "metadata": {
  "kernelspec": {
   "display_name": "Python 3",
   "language": "python",
   "name": "python3"
  },
  "language_info": {
   "codemirror_mode": {
    "name": "ipython",
    "version": 3
   },
   "file_extension": ".py",
   "mimetype": "text/x-python",
   "name": "python",
   "nbconvert_exporter": "python",
   "pygments_lexer": "ipython3",
   "version": "3.11.2"
  }
 },
 "nbformat": 4,
 "nbformat_minor": 5
}
